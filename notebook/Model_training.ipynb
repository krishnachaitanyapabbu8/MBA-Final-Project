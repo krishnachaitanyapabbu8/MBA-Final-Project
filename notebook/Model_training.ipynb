{
 "cells": [
  {
   "cell_type": "code",
   "execution_count": 3,
   "metadata": {},
   "outputs": [],
   "source": [
    "# Basic Import\n",
    "import numpy as np\n",
    "import pandas as pd\n",
    "import matplotlib.pyplot as plt \n",
    "import seaborn as sns\n",
    "from sklearn.metrics import accuracy_score, classification_report\n",
    "from sklearn.model_selection import train_test_split\n",
    "from sklearn.preprocessing import StandardScaler, OneHotEncoder\n",
    "from sklearn.ensemble import RandomForestClassifier, AdaBoostClassifier\n",
    "from sklearn.svm import SVC\n",
    "from sklearn.neighbors import KNeighborsClassifier\n",
    "from sklearn.tree import DecisionTreeClassifier\n",
    "from sklearn.linear_model import LogisticRegression\n",
    "from sklearn.compose import ColumnTransformer\n",
    "from sklearn.datasets import load_iris\n",
    "import xgboost as xgb  # Import XGBoost"
   ]
  },
  {
   "cell_type": "code",
   "execution_count": 4,
   "metadata": {},
   "outputs": [],
   "source": [
    "# Import the Iris dataset as Pandas DataFrame\n",
    "data = pd.read_csv('D:\\\\project\\\\MBA-Final-Project\\\\notebook\\\\data\\\\insuranceFraud_Dataset.csv')"
   ]
  },
  {
   "cell_type": "code",
   "execution_count": 5,
   "metadata": {},
   "outputs": [
    {
     "name": "stdout",
     "output_type": "stream",
     "text": [
      "   months_as_customer  age  policy_number policy_bind_date policy_state  \\\n",
      "0                 328   48         521585       10/17/2014           OH   \n",
      "1                 228   42         342868        6/27/2006           IN   \n",
      "2                 134   29         687698         9/6/2000           OH   \n",
      "3                 256   41         227811        5/25/1990           IL   \n",
      "4                 228   44         367455         6/6/2014           IL   \n",
      "\n",
      "  policy_csl  policy_deductable  policy_annual_premium  umbrella_limit  \\\n",
      "0    250/500               1000                1406.91               0   \n",
      "1    250/500               2000                1197.22         5000000   \n",
      "2    100/300               2000                1413.14         5000000   \n",
      "3    250/500               2000                1415.74         6000000   \n",
      "4   500/1000               1000                1583.91         6000000   \n",
      "\n",
      "   insured_zip  ... witnesses police_report_available total_claim_amount  \\\n",
      "0       466132  ...         2                     YES              71610   \n",
      "1       468176  ...         0                       ?               5070   \n",
      "2       430632  ...         3                      NO              34650   \n",
      "3       608117  ...         2                      NO              63400   \n",
      "4       610706  ...         1                      NO               6500   \n",
      "\n",
      "  injury_claim property_claim  vehicle_claim  auto_make auto_model auto_year  \\\n",
      "0         6510          13020          52080       Saab        92x      2004   \n",
      "1          780            780           3510   Mercedes       E400      2007   \n",
      "2         7700           3850          23100      Dodge        RAM      2007   \n",
      "3         6340           6340          50720  Chevrolet      Tahoe      2014   \n",
      "4         1300            650           4550     Accura        RSX      2009   \n",
      "\n",
      "  fraud_reported  \n",
      "0              Y  \n",
      "1              Y  \n",
      "2              N  \n",
      "3              Y  \n",
      "4              N  \n",
      "\n",
      "[5 rows x 39 columns]\n"
     ]
    }
   ],
   "source": [
    "# Show Top 5 Records\n",
    "print(data.head())"
   ]
  },
  {
   "cell_type": "code",
   "execution_count": 27,
   "metadata": {},
   "outputs": [],
   "source": [
    "# Preparing X and Y variables\n",
    "x = data.drop(columns=['fraud_reported'], axis=1)\n",
    "y = data['fraud_reported'].map({'N': 0, 'Y': 1}) # Convert string values to numeric values\n",
    "y = y.astype('int') # Convert numeric values to integers"
   ]
  },
  {
   "cell_type": "code",
   "execution_count": 28,
   "metadata": {},
   "outputs": [],
   "source": [
    "# Create Column Transformer with 2 types of transformers\n",
    "num_features = x.select_dtypes(exclude=\"object\").columns\n",
    "cat_features = x.select_dtypes(include=\"object\").columns\n",
    "\n",
    "numeric_transformer = StandardScaler()\n",
    "oh_transformer = OneHotEncoder()\n",
    "\n",
    "preprocessor = ColumnTransformer(\n",
    "    [\n",
    "        (\"OneHotEncoder\", oh_transformer, cat_features),\n",
    "        (\"StandardScaler\", numeric_transformer, num_features),\n",
    "    ]\n",
    ")\n"
   ]
  },
  {
   "cell_type": "code",
   "execution_count": 29,
   "metadata": {},
   "outputs": [],
   "source": [
    "x = preprocessor.fit_transform(x)"
   ]
  },
  {
   "cell_type": "code",
   "execution_count": 30,
   "metadata": {},
   "outputs": [
    {
     "data": {
      "text/plain": [
       "(1000, 2174)"
      ]
     },
     "execution_count": 30,
     "metadata": {},
     "output_type": "execute_result"
    }
   ],
   "source": [
    "x.shape"
   ]
  },
  {
   "cell_type": "code",
   "execution_count": 31,
   "metadata": {},
   "outputs": [],
   "source": [
    "# Separate dataset into train and test\n",
    "x_train, x_test, y_train, y_test = train_test_split(x, y, test_size=0.2, random_state=42)"
   ]
  },
  {
   "cell_type": "code",
   "execution_count": 32,
   "metadata": {},
   "outputs": [],
   "source": [
    "# Create an Evaluate Function for classification\n",
    "def evaluate_model_classification(true, predicted):\n",
    "    accuracy = accuracy_score(true, predicted)\n",
    "    report = classification_report(true, predicted)\n",
    "    return accuracy, report\n"
   ]
  },
  {
   "cell_type": "code",
   "execution_count": 33,
   "metadata": {},
   "outputs": [],
   "source": [
    "# Define classification models\n",
    "classification_models = {\n",
    "    \"Logistic Regression\": LogisticRegression(),\n",
    "    \"Random Forest Classifier\": RandomForestClassifier(),\n",
    "    \"AdaBoost Classifier\": AdaBoostClassifier(),\n",
    "    \"SVM Classifier\": SVC(),\n",
    "    \"K-Neighbors Classifier\": KNeighborsClassifier(),\n",
    "    \"Decision Tree Classifier\": DecisionTreeClassifier(),\n",
    "    \"XGBoost Classifier\": xgb.XGBClassifier(),\n",
    "}"
   ]
  },
  {
   "cell_type": "code",
   "execution_count": 34,
   "metadata": {},
   "outputs": [],
   "source": [
    "# Model Training and Evaluation\n",
    "model_list_classification = []\n",
    "accuracy_list = []"
   ]
  },
  {
   "cell_type": "code",
   "execution_count": 35,
   "metadata": {},
   "outputs": [
    {
     "name": "stderr",
     "output_type": "stream",
     "text": [
      "c:\\Users\\Chandradhar\\AppData\\Local\\Programs\\Python\\Python311\\Lib\\site-packages\\sklearn\\ensemble\\_weight_boosting.py:519: FutureWarning: The SAMME.R algorithm (the default) is deprecated and will be removed in 1.6. Use the SAMME algorithm to circumvent this warning.\n",
      "  warnings.warn(\n"
     ]
    }
   ],
   "source": [
    "for model_name, model in classification_models.items():\n",
    "    model.fit(x_train, y_train)  # Train model\n"
   ]
  },
  {
   "cell_type": "code",
   "execution_count": 36,
   "metadata": {},
   "outputs": [],
   "source": [
    "# Make predictions\n",
    "y_train_pred = model.predict(x_train)\n",
    "y_test_pred = model.predict(x_test)"
   ]
  },
  {
   "cell_type": "code",
   "execution_count": 37,
   "metadata": {},
   "outputs": [],
   "source": [
    "# Evaluate Train and Test dataset\n",
    "model_train_accuracy, model_train_report = evaluate_model_classification(y_train, y_train_pred)\n",
    "model_test_accuracy, model_test_report = evaluate_model_classification(y_test, y_test_pred)\n",
    "    "
   ]
  },
  {
   "cell_type": "code",
   "execution_count": 38,
   "metadata": {},
   "outputs": [
    {
     "name": "stdout",
     "output_type": "stream",
     "text": [
      "XGBoost Classifier\n"
     ]
    }
   ],
   "source": [
    "print(model_name)\n",
    "model_list_classification.append(model_name)"
   ]
  },
  {
   "cell_type": "code",
   "execution_count": 39,
   "metadata": {},
   "outputs": [
    {
     "name": "stdout",
     "output_type": "stream",
     "text": [
      "Model performance for Training set\n",
      "- Accuracy: 1.0000\n",
      "- Classification Report:\n",
      "               precision    recall  f1-score   support\n",
      "\n",
      "           0       1.00      1.00      1.00       608\n",
      "           1       1.00      1.00      1.00       192\n",
      "\n",
      "    accuracy                           1.00       800\n",
      "   macro avg       1.00      1.00      1.00       800\n",
      "weighted avg       1.00      1.00      1.00       800\n",
      "\n",
      "----------------------------------\n",
      "Model performance for Test set\n",
      "- Accuracy: 0.7650\n",
      "- Classification Report:\n",
      "               precision    recall  f1-score   support\n",
      "\n",
      "           0       0.81      0.88      0.84       145\n",
      "           1       0.60      0.45      0.52        55\n",
      "\n",
      "    accuracy                           0.77       200\n",
      "   macro avg       0.70      0.67      0.68       200\n",
      "weighted avg       0.75      0.77      0.75       200\n",
      "\n",
      "===================================\n",
      "\n",
      "\n"
     ]
    }
   ],
   "source": [
    "print('Model performance for Training set')\n",
    "print(\"- Accuracy: {:.4f}\".format(model_train_accuracy))\n",
    "print(\"- Classification Report:\\n\", model_train_report)\n",
    "    \n",
    "print('----------------------------------')\n",
    "    \n",
    "print('Model performance for Test set')\n",
    "print(\"- Accuracy: {:.4f}\".format(model_test_accuracy))\n",
    "print(\"- Classification Report:\\n\", model_test_report)\n",
    "accuracy_list.append(model_test_accuracy)\n",
    "    \n",
    "print('='*35)\n",
    "print('\\n')"
   ]
  }
 ],
 "metadata": {
  "kernelspec": {
   "display_name": "Python 3",
   "language": "python",
   "name": "python3"
  },
  "language_info": {
   "codemirror_mode": {
    "name": "ipython",
    "version": 3
   },
   "file_extension": ".py",
   "mimetype": "text/x-python",
   "name": "python",
   "nbconvert_exporter": "python",
   "pygments_lexer": "ipython3",
   "version": "3.11.5"
  }
 },
 "nbformat": 4,
 "nbformat_minor": 2
}
